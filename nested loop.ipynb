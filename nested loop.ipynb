{
  "nbformat": 4,
  "nbformat_minor": 0,
  "metadata": {
    "colab": {
      "provenance": []
    },
    "kernelspec": {
      "name": "python3",
      "display_name": "Python 3"
    },
    "language_info": {
      "name": "python"
    }
  },
  "cells": [
    {
      "cell_type": "code",
      "source": [
        "start = 1\n",
        "while(start <= 5):\n",
        "  if(start == 3):\n",
        "    start+=1\n",
        "    continue\n",
        "  print(start)\n",
        "  start = start+1\n"
      ],
      "metadata": {
        "colab": {
          "base_uri": "https://localhost:8080/"
        },
        "id": "brFW-NNNPFGl",
        "outputId": "e42c5bee-1582-4074-a601-ceade8f90a39"
      },
      "execution_count": null,
      "outputs": [
        {
          "output_type": "stream",
          "name": "stdout",
          "text": [
            "1\n",
            "2\n",
            "4\n",
            "5\n"
          ]
        }
      ]
    },
    {
      "cell_type": "code",
      "source": [
        "start = 1\n",
        "while(start <= 5):\n",
        "  if(start == 3):\n",
        "    start+=1\n",
        "    continue\n",
        "    print('############')\n",
        "\n",
        "  print(start)\n",
        "  start = start+1\n"
      ],
      "metadata": {
        "colab": {
          "base_uri": "https://localhost:8080/"
        },
        "id": "W_jFm3z9PfMK",
        "outputId": "4ba49d7c-0a7f-41bb-8c75-61931ed52495"
      },
      "execution_count": null,
      "outputs": [
        {
          "output_type": "stream",
          "name": "stdout",
          "text": [
            "1\n",
            "2\n",
            "4\n",
            "5\n"
          ]
        }
      ]
    },
    {
      "cell_type": "code",
      "source": [
        "num = 9\n",
        "i = 2\n",
        "while(i<num):\n",
        "  print(i)\n",
        "  i+=1"
      ],
      "metadata": {
        "colab": {
          "base_uri": "https://localhost:8080/"
        },
        "id": "xxjdNaleQPBB",
        "outputId": "2ff5d86e-1ed8-41d8-e52d-3c270e47a393"
      },
      "execution_count": null,
      "outputs": [
        {
          "output_type": "stream",
          "name": "stdout",
          "text": [
            "2\n",
            "3\n",
            "4\n",
            "5\n",
            "6\n",
            "7\n",
            "8\n"
          ]
        }
      ]
    },
    {
      "cell_type": "code",
      "source": [
        "num = 1\n",
        "i = 2\n",
        "out = 0\n",
        "while(i<num):\n",
        "  if(num%i==0):\n",
        "    out = 1\n",
        "    break\n",
        "  i+=1\n",
        "\n",
        "if(out == 0):\n",
        "  print(\"it is a prime\")\n",
        "else:\n",
        "  print(\"it is not prime\")\n"
      ],
      "metadata": {
        "colab": {
          "base_uri": "https://localhost:8080/"
        },
        "id": "qOMm4ELjQd7O",
        "outputId": "07e04002-1c28-4872-9d52-fbb5124e6fca"
      },
      "execution_count": null,
      "outputs": [
        {
          "output_type": "stream",
          "name": "stdout",
          "text": [
            "it is a prime\n"
          ]
        }
      ]
    },
    {
      "cell_type": "code",
      "source": [
        "# find whether a string is a palindrome or not\n",
        "\n",
        "data = 'sarak'\n",
        "i = 0\n",
        "out = 4\n",
        "while(i <= 4):\n",
        "  print(i , data[i] , data[out] )\n",
        "  i+=1\n",
        "  out-=1"
      ],
      "metadata": {
        "colab": {
          "base_uri": "https://localhost:8080/"
        },
        "id": "nVm9ZbtWVKUz",
        "outputId": "c43787a0-526d-44ea-8248-74414a50db63"
      },
      "execution_count": null,
      "outputs": [
        {
          "output_type": "stream",
          "name": "stdout",
          "text": [
            "0 s k\n",
            "1 a a\n",
            "2 r r\n",
            "3 a a\n",
            "4 k s\n"
          ]
        }
      ]
    },
    {
      "cell_type": "code",
      "source": [
        "data = 'saras'\n",
        "i = 0\n",
        "out = len(data)-1\n",
        "end = 0\n",
        "while(i <= 4):\n",
        "  if(data[i] != data[out] ):\n",
        "    end = 2\n",
        "    break\n",
        "\n",
        "  i+=1\n",
        "  out-=1\n",
        "\n",
        "if(end == 0):\n",
        "  print(\"palindrome\")\n",
        "else:\n",
        "  print(\"not palidrome\")"
      ],
      "metadata": {
        "colab": {
          "base_uri": "https://localhost:8080/"
        },
        "id": "NKOAmeg1XKWC",
        "outputId": "4b2c9582-e408-4d7f-d588-8ca219344283"
      },
      "execution_count": null,
      "outputs": [
        {
          "output_type": "stream",
          "name": "stdout",
          "text": [
            "palindrome\n"
          ]
        }
      ]
    },
    {
      "cell_type": "code",
      "source": [
        "x = 10\n",
        "print(\"value of x \",x, id(x))\n",
        "a = x\n",
        "print(\"value of a \",a, id(a))\n",
        "a = 99\n",
        "print(\"new value of a \",a, id(a), x, id(x))\n"
      ],
      "metadata": {
        "id": "axigXalQL5b8",
        "colab": {
          "base_uri": "https://localhost:8080/"
        },
        "outputId": "d62c0f2a-b247-457f-9ad7-5d1993bc5e56"
      },
      "execution_count": null,
      "outputs": [
        {
          "output_type": "stream",
          "name": "stdout",
          "text": [
            "value of x  10 10751144\n",
            "value of a  10 10751144\n",
            "new value of a  99 10753992 10 10751144\n"
          ]
        }
      ]
    },
    {
      "cell_type": "code",
      "source": [
        " 10 & 14"
      ],
      "metadata": {
        "colab": {
          "base_uri": "https://localhost:8080/"
        },
        "id": "vX82CgCCX6CU",
        "outputId": "7e7d3a96-fc1b-4775-9fd4-76cba1f099a6"
      },
      "execution_count": null,
      "outputs": [
        {
          "output_type": "execute_result",
          "data": {
            "text/plain": [
              "10"
            ]
          },
          "metadata": {},
          "execution_count": 7
        }
      ]
    },
    {
      "cell_type": "code",
      "source": [
        "9 | 13"
      ],
      "metadata": {
        "colab": {
          "base_uri": "https://localhost:8080/"
        },
        "id": "tVI-cR94Z0F9",
        "outputId": "6f629b58-de75-47c1-cf84-e1ce2ae65549"
      },
      "execution_count": null,
      "outputs": [
        {
          "output_type": "execute_result",
          "data": {
            "text/plain": [
              "13"
            ]
          },
          "metadata": {},
          "execution_count": 10
        }
      ]
    },
    {
      "cell_type": "code",
      "source": [
        "# nested loop for\n",
        "\n",
        "for i in range(1,4):\n",
        "  print(\"student \",i)\n",
        "  for j in range(1,5):\n",
        "    print(\"subject checked=> \",j)"
      ],
      "metadata": {
        "colab": {
          "base_uri": "https://localhost:8080/"
        },
        "id": "HuUXhD4KbU00",
        "outputId": "fce1ff28-d5b5-4745-a238-cb0bbd967837"
      },
      "execution_count": null,
      "outputs": [
        {
          "output_type": "stream",
          "name": "stdout",
          "text": [
            "student  1\n",
            "subject checked=>  1\n",
            "subject checked=>  2\n",
            "subject checked=>  3\n",
            "subject checked=>  4\n",
            "student  2\n",
            "subject checked=>  1\n",
            "subject checked=>  2\n",
            "subject checked=>  3\n",
            "subject checked=>  4\n",
            "student  3\n",
            "subject checked=>  1\n",
            "subject checked=>  2\n",
            "subject checked=>  3\n",
            "subject checked=>  4\n"
          ]
        }
      ]
    },
    {
      "cell_type": "code",
      "source": [
        "for i in range(3,0,-1):\n",
        "  print(\"student \",i)\n",
        "  for j in range(10,14):\n",
        "    print(\"subject checked=> \",j)"
      ],
      "metadata": {
        "colab": {
          "base_uri": "https://localhost:8080/"
        },
        "id": "KvUFENdVcD-8",
        "outputId": "5348ed35-ba46-4eb0-8eed-2f1d47f791db"
      },
      "execution_count": null,
      "outputs": [
        {
          "output_type": "stream",
          "name": "stdout",
          "text": [
            "student  3\n",
            "subject checked=>  10\n",
            "subject checked=>  11\n",
            "subject checked=>  12\n",
            "subject checked=>  13\n",
            "student  2\n",
            "subject checked=>  10\n",
            "subject checked=>  11\n",
            "subject checked=>  12\n",
            "subject checked=>  13\n",
            "student  1\n",
            "subject checked=>  10\n",
            "subject checked=>  11\n",
            "subject checked=>  12\n",
            "subject checked=>  13\n"
          ]
        }
      ]
    },
    {
      "cell_type": "code",
      "source": [
        "for i in range(4,0,-1):\n",
        "  print(\"student \",i)\n",
        "  for j in range(1,i+1):\n",
        "    print(\"subject checked=> \",j)"
      ],
      "metadata": {
        "colab": {
          "base_uri": "https://localhost:8080/"
        },
        "id": "6cTQVRi6dYyN",
        "outputId": "ab4a9b35-9a67-4bf7-9978-35b5d751cf01"
      },
      "execution_count": null,
      "outputs": [
        {
          "output_type": "stream",
          "name": "stdout",
          "text": [
            "student  4\n",
            "subject checked=>  1\n",
            "subject checked=>  2\n",
            "subject checked=>  3\n",
            "subject checked=>  4\n",
            "student  3\n",
            "subject checked=>  1\n",
            "subject checked=>  2\n",
            "subject checked=>  3\n",
            "student  2\n",
            "subject checked=>  1\n",
            "subject checked=>  2\n",
            "student  1\n",
            "subject checked=>  1\n"
          ]
        }
      ]
    },
    {
      "cell_type": "code",
      "source": [
        "\n",
        "for i in range(1,4):\n",
        "  print(\"student \",i)\n",
        "  for j in range(1,5-i):\n",
        "    print(\"subject checked=> \",j)"
      ],
      "metadata": {
        "colab": {
          "base_uri": "https://localhost:8080/"
        },
        "id": "EkDiAaPUeHfg",
        "outputId": "84e4a46b-0ffe-45d6-8dad-c3fb57bba029"
      },
      "execution_count": null,
      "outputs": [
        {
          "output_type": "stream",
          "name": "stdout",
          "text": [
            "student  1\n",
            "subject checked=>  1\n",
            "subject checked=>  2\n",
            "subject checked=>  3\n",
            "student  2\n",
            "subject checked=>  1\n",
            "subject checked=>  2\n",
            "student  3\n",
            "subject checked=>  1\n"
          ]
        }
      ]
    },
    {
      "cell_type": "code",
      "source": [
        "num = 4\n",
        "i = 1\n",
        "while(i <= 10):\n",
        "  print(i*num)\n",
        "  i = i+1\n"
      ],
      "metadata": {
        "colab": {
          "base_uri": "https://localhost:8080/"
        },
        "id": "utISiZS0Y_44",
        "outputId": "c6400b6b-3d34-4d05-a30e-c44d6ec02b94"
      },
      "execution_count": null,
      "outputs": [
        {
          "output_type": "stream",
          "name": "stdout",
          "text": [
            "4\n",
            "8\n",
            "12\n",
            "16\n",
            "20\n",
            "24\n",
            "28\n",
            "32\n",
            "36\n",
            "40\n"
          ]
        }
      ]
    },
    {
      "cell_type": "code",
      "source": [
        "for num in range(2,6):\n",
        "  for i in range(1,11):\n",
        "    print(i*num)\n",
        "\n",
        "  print('-----------')\n"
      ],
      "metadata": {
        "colab": {
          "base_uri": "https://localhost:8080/"
        },
        "id": "P3PYHCySaGhM",
        "outputId": "1a8bb424-c005-4143-fd56-da93189ddb75"
      },
      "execution_count": null,
      "outputs": [
        {
          "output_type": "stream",
          "name": "stdout",
          "text": [
            "2\n",
            "4\n",
            "6\n",
            "8\n",
            "10\n",
            "12\n",
            "14\n",
            "16\n",
            "18\n",
            "20\n",
            "-----------\n",
            "3\n",
            "6\n",
            "9\n",
            "12\n",
            "15\n",
            "18\n",
            "21\n",
            "24\n",
            "27\n",
            "30\n",
            "-----------\n",
            "4\n",
            "8\n",
            "12\n",
            "16\n",
            "20\n",
            "24\n",
            "28\n",
            "32\n",
            "36\n",
            "40\n",
            "-----------\n",
            "5\n",
            "10\n",
            "15\n",
            "20\n",
            "25\n",
            "30\n",
            "35\n",
            "40\n",
            "45\n",
            "50\n",
            "-----------\n"
          ]
        }
      ]
    },
    {
      "cell_type": "code",
      "source": [
        "num = int(input(\"Enter a number \"))\n",
        "i = 2\n",
        "end = 0\n",
        "while(i<num):\n",
        "  if(num%i==0):\n",
        "    end = 1\n",
        "    break\n",
        "  i+=1\n",
        "\n",
        "if(end == 0):\n",
        "  print('prime ')\n",
        "else:\n",
        "  print('not prime')"
      ],
      "metadata": {
        "colab": {
          "base_uri": "https://localhost:8080/"
        },
        "id": "dsaeeomPasci",
        "outputId": "fc17c431-02ee-4d17-b2ef-e15c3251405a"
      },
      "execution_count": null,
      "outputs": [
        {
          "output_type": "stream",
          "name": "stdout",
          "text": [
            "Enter a number 14\n",
            "not prime\n"
          ]
        }
      ]
    },
    {
      "cell_type": "code",
      "source": [
        "num = 10\n",
        "i = 2\n",
        "a = 0\n",
        "while(i,):\n",
        "  if(num%i==0):\n",
        "    a = 1\n",
        "    break\n",
        "  i+=1\n",
        "if(a==0):\n",
        "  print('prime')\n",
        "else:\n",
        "  print('not prime')"
      ],
      "metadata": {
        "colab": {
          "base_uri": "https://localhost:8080/"
        },
        "id": "KwYYRlA8bgMz",
        "outputId": "fe902f2e-748f-4427-e4dd-e03b57b6224b"
      },
      "execution_count": null,
      "outputs": [
        {
          "output_type": "stream",
          "name": "stdout",
          "text": [
            "not prime\n"
          ]
        }
      ]
    },
    {
      "cell_type": "code",
      "source": [
        "for num in range(2,8):\n",
        "  a = 0\n",
        "  for i in range(2,num):\n",
        "   if(num%i==0):\n",
        "      a = 1\n",
        "      break\n",
        "\n",
        "if(a==0):\n",
        "  print('prime',num)\n",
        "else:\n",
        "  print('not prime',num)\n"
      ],
      "metadata": {
        "colab": {
          "base_uri": "https://localhost:8080/"
        },
        "id": "EshlGs2QdRzW",
        "outputId": "0a6116ed-8dbb-4b70-f452-a9580d41c156"
      },
      "execution_count": null,
      "outputs": [
        {
          "output_type": "stream",
          "name": "stdout",
          "text": [
            "prime 7\n"
          ]
        }
      ]
    },
    {
      "cell_type": "code",
      "source": [
        "a = int(input(\"enter a num \"))\n",
        "sum = 0\n",
        "for i in range(0,a):\n",
        "  if(a>0):\n",
        "    f=a%10\n",
        "    a=a//10\n",
        "    sum=sum+f\n",
        "print('sum',sum)\n"
      ],
      "metadata": {
        "colab": {
          "base_uri": "https://localhost:8080/"
        },
        "id": "3_G40rNbd05n",
        "outputId": "edb8a01e-fa8f-49c0-b57e-e63992efddde"
      },
      "execution_count": null,
      "outputs": [
        {
          "output_type": "stream",
          "name": "stdout",
          "text": [
            "enter a num 2345\n",
            "sum 14\n"
          ]
        }
      ]
    },
    {
      "cell_type": "code",
      "source": [
        "sum = 0\n",
        "for num in range(400,451):\n",
        "  sum = sum+num\n",
        "print('sum',sum)"
      ],
      "metadata": {
        "colab": {
          "base_uri": "https://localhost:8080/"
        },
        "id": "uXJkncIFfvXi",
        "outputId": "d487e2d0-3c12-4de4-a052-418f03f3634f"
      },
      "execution_count": null,
      "outputs": [
        {
          "output_type": "stream",
          "name": "stdout",
          "text": [
            "sum 21675\n"
          ]
        }
      ]
    },
    {
      "cell_type": "code",
      "source": [
        "for num  in range(400,451):\n",
        "  sum = 0\n",
        "  a = num\n",
        "  while(num>0):\n",
        "    r = num%10\n",
        "    num = num//10\n",
        "    sum = sum+r\n",
        "  print('total',a,sum)"
      ],
      "metadata": {
        "colab": {
          "base_uri": "https://localhost:8080/"
        },
        "id": "wZ-KSX0zgd9o",
        "outputId": "e4c66cf0-ba8f-4243-d545-197411cbd1ff"
      },
      "execution_count": null,
      "outputs": [
        {
          "output_type": "stream",
          "name": "stdout",
          "text": [
            "total 400 4\n",
            "total 401 5\n",
            "total 402 6\n",
            "total 403 7\n",
            "total 404 8\n",
            "total 405 9\n",
            "total 406 10\n",
            "total 407 11\n",
            "total 408 12\n",
            "total 409 13\n",
            "total 410 5\n",
            "total 411 6\n",
            "total 412 7\n",
            "total 413 8\n",
            "total 414 9\n",
            "total 415 10\n",
            "total 416 11\n",
            "total 417 12\n",
            "total 418 13\n",
            "total 419 14\n",
            "total 420 6\n",
            "total 421 7\n",
            "total 422 8\n",
            "total 423 9\n",
            "total 424 10\n",
            "total 425 11\n",
            "total 426 12\n",
            "total 427 13\n",
            "total 428 14\n",
            "total 429 15\n",
            "total 430 7\n",
            "total 431 8\n",
            "total 432 9\n",
            "total 433 10\n",
            "total 434 11\n",
            "total 435 12\n",
            "total 436 13\n",
            "total 437 14\n",
            "total 438 15\n",
            "total 439 16\n",
            "total 440 8\n",
            "total 441 9\n",
            "total 442 10\n",
            "total 443 11\n",
            "total 444 12\n",
            "total 445 13\n",
            "total 446 14\n",
            "total 447 15\n",
            "total 448 16\n",
            "total 449 17\n",
            "total 450 9\n"
          ]
        }
      ]
    },
    {
      "cell_type": "code",
      "source": [
        "a = int(input(\"Enter a number \"))\n",
        "sum = 0\n",
        "n = a\n",
        "while(a>0):\n",
        "  r = a%10\n",
        "  a = a//10\n",
        "  sum = sum+r**3\n",
        "\n",
        "if(n == sum):\n",
        "  print('armstrong')\n",
        "else:\n",
        "  print('not armstrong')\n"
      ],
      "metadata": {
        "colab": {
          "base_uri": "https://localhost:8080/"
        },
        "id": "znghEmNhh3H-",
        "outputId": "fd867769-fb44-4109-d059-9fc15834f22d"
      },
      "execution_count": null,
      "outputs": [
        {
          "output_type": "stream",
          "name": "stdout",
          "text": [
            "Enter a number 135\n",
            "not armstrong\n"
          ]
        }
      ]
    },
    {
      "cell_type": "code",
      "source": [
        "for a in range(150,401):\n",
        "  sum = 0\n",
        "  n = a\n",
        "  while(a>0):\n",
        "    r = a%10\n",
        "    a = a//10\n",
        "    sum = sum+r**3\n",
        "\n",
        "  if(n == sum):\n",
        "    print('armstrong',n)\n",
        "\n"
      ],
      "metadata": {
        "colab": {
          "base_uri": "https://localhost:8080/"
        },
        "id": "d-6sDvKlktvH",
        "outputId": "1b763cca-87cc-48e5-8bca-f1f4cc930e5c"
      },
      "execution_count": null,
      "outputs": [
        {
          "output_type": "stream",
          "name": "stdout",
          "text": [
            "armstrong 153\n",
            "armstrong 370\n",
            "armstrong 371\n"
          ]
        }
      ]
    },
    {
      "cell_type": "code",
      "source": [],
      "metadata": {
        "id": "lWLBLqnhNcG9"
      },
      "execution_count": null,
      "outputs": []
    }
  ]
}